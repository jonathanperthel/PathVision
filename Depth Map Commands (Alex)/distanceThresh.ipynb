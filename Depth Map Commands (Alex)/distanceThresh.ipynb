{
 "cells": [
  {
   "cell_type": "code",
   "execution_count": null,
   "id": "7c614583",
   "metadata": {},
   "outputs": [],
   "source": [
    "import sys\n",
    "np.set_printoptions(threshold=sys.maxsize)"
   ]
  },
  {
   "cell_type": "code",
   "execution_count": 38,
   "id": "c9e08540",
   "metadata": {
    "scrolled": false
   },
   "outputs": [
    {
     "name": "stdout",
     "output_type": "stream",
     "text": [
      "600\n"
     ]
    },
    {
     "ename": "KeyboardInterrupt",
     "evalue": "",
     "output_type": "error",
     "traceback": [
      "\u001b[1;31m---------------------------------------------------------------------------\u001b[0m",
      "\u001b[1;31mKeyboardInterrupt\u001b[0m                         Traceback (most recent call last)",
      "\u001b[1;32m~\\AppData\\Local\\Temp/ipykernel_16364/708054023.py\u001b[0m in \u001b[0;36m<module>\u001b[1;34m\u001b[0m\n\u001b[0;32m     23\u001b[0m     \u001b[1;31m#stream from intel realsense\u001b[0m\u001b[1;33m\u001b[0m\u001b[1;33m\u001b[0m\u001b[0m\n\u001b[0;32m     24\u001b[0m     \u001b[0mret\u001b[0m\u001b[1;33m,\u001b[0m \u001b[0mdepth_frame\u001b[0m\u001b[1;33m,\u001b[0m \u001b[0mcolor_frame\u001b[0m\u001b[1;33m,\u001b[0m \u001b[0mheat_frame\u001b[0m \u001b[1;33m=\u001b[0m \u001b[0mdc\u001b[0m\u001b[1;33m.\u001b[0m\u001b[0mget_frame\u001b[0m\u001b[1;33m(\u001b[0m\u001b[1;33m)\u001b[0m\u001b[1;33m\u001b[0m\u001b[1;33m\u001b[0m\u001b[0m\n\u001b[1;32m---> 25\u001b[1;33m     \u001b[0mdepth_frameDISP\u001b[0m \u001b[1;33m=\u001b[0m \u001b[0mcv2\u001b[0m\u001b[1;33m.\u001b[0m\u001b[0mnormalize\u001b[0m\u001b[1;33m(\u001b[0m\u001b[0mdepth_frame\u001b[0m\u001b[1;33m,\u001b[0m \u001b[1;32mNone\u001b[0m\u001b[1;33m,\u001b[0m \u001b[0malpha\u001b[0m\u001b[1;33m=\u001b[0m\u001b[1;36m0\u001b[0m\u001b[1;33m,\u001b[0m \u001b[0mbeta\u001b[0m\u001b[1;33m=\u001b[0m\u001b[1;36m1\u001b[0m\u001b[1;33m,\u001b[0m \u001b[0mnorm_type\u001b[0m\u001b[1;33m=\u001b[0m\u001b[0mcv2\u001b[0m\u001b[1;33m.\u001b[0m\u001b[0mNORM_MINMAX\u001b[0m\u001b[1;33m,\u001b[0m \u001b[0mdtype\u001b[0m\u001b[1;33m=\u001b[0m\u001b[0mcv2\u001b[0m\u001b[1;33m.\u001b[0m\u001b[0mCV_32F\u001b[0m\u001b[1;33m)\u001b[0m\u001b[1;33m\u001b[0m\u001b[1;33m\u001b[0m\u001b[0m\n\u001b[0m\u001b[0;32m     26\u001b[0m     \u001b[0mdepth_frame\u001b[0m \u001b[1;33m=\u001b[0m \u001b[0mdepth_frame\u001b[0m\u001b[1;33m[\u001b[0m\u001b[1;33m:\u001b[0m\u001b[1;33m,\u001b[0m\u001b[1;36m100\u001b[0m\u001b[1;33m:\u001b[0m\u001b[1;33m]\u001b[0m\u001b[1;33m\u001b[0m\u001b[1;33m\u001b[0m\u001b[0m\n\u001b[0;32m     27\u001b[0m     \u001b[0mcolor_frame\u001b[0m \u001b[1;33m=\u001b[0m \u001b[0mcolor_frame\u001b[0m\u001b[1;33m[\u001b[0m\u001b[1;33m:\u001b[0m\u001b[1;33m,\u001b[0m\u001b[1;36m100\u001b[0m\u001b[1;33m:\u001b[0m\u001b[1;33m]\u001b[0m\u001b[1;33m\u001b[0m\u001b[1;33m\u001b[0m\u001b[0m\n",
      "\u001b[1;31mKeyboardInterrupt\u001b[0m: "
     ]
    }
   ],
   "source": [
    "#need location of image that is the brightest\n",
    "\n",
    "import time\n",
    "import cv2\n",
    "import numpy as np\n",
    "from realsense_depth import *\n",
    "from IPython.display import clear_output\n",
    "\n",
    "buffer = [0] * 40  #buffer moving average filter\n",
    "dc = DepthCamera() #initialize intel realsense\n",
    "\n",
    "#set frames (if no red object detected)\n",
    "#depth frame 2 is colorized - for viewing only\n",
    "ret, depth_frame, color_frame, depth_frame2 = dc.get_frame()\n",
    "rows, cols, _ = color_frame.shape\n",
    "x_medium = int(cols/2)\n",
    "y_medium = int(rows/2)\n",
    "center = int(cols/2)\n",
    "\n",
    "\n",
    "while True:\n",
    "    \n",
    "    #stream from intel realsense\n",
    "    ret, depth_frame, color_frame, heat_frame = dc.get_frame()\n",
    "    depth_frameDISP = cv2.normalize(depth_frame, None, alpha=0, beta=1, norm_type=cv2.NORM_MINMAX, dtype=cv2.CV_32F)\n",
    "    depth_frame = depth_frame[:,100:]\n",
    "    color_frame = color_frame[:,100:]\n",
    "    \n",
    "    #smoothing kernel\n",
    "    n = 50\n",
    "    kernel = np.ones((n,n), np.uint8)/n\n",
    "    \n",
    "    #get mask for all pixels within distance threshold\n",
    "    distMask = np.where(depth_frame < 800, depth_frame, 0)\n",
    "    distMask = distMask.astype(np.uint8)\n",
    "    \n",
    "    #get mask for all pixels exceeding the distance threshold\n",
    "    distPass = np.where(depth_frame >= 800, depth_frame, 0)\n",
    "    distPass = cv2.filter2D(src=distPass, ddepth=-1, kernel=kernel)\n",
    "    \n",
    "    #open area\n",
    "    distPass = np.where(distPass == np.amax(distPass), distPass, 0)\n",
    "    com = np.where(distPass == np.amax(distPass))\n",
    "    mX = np.mean(com[1])\n",
    "    mY = np.mean(com[0])\n",
    "    cv2.circle(color_frame, (int(mX), int(mY)), 10, (0, 0, 255), -1)\n",
    "    \n",
    "    #finding largest object\n",
    "    contours, _ = cv2.findContours(distMask, cv2.RETR_TREE, cv2.CHAIN_APPROX_SIMPLE)\n",
    "    contours = sorted(contours, key=lambda x:cv2.contourArea(x), reverse=True)\n",
    "\n",
    "    #this follows the largest object within the distance\n",
    "    for cnt in contours:\n",
    "        (x, y, w, h) = cv2.boundingRect(cnt)\n",
    "        cv2.rectangle(distMask, (x,y), (x + w, y + h), (0, 255, 0), 2)\n",
    "        cv2.rectangle(color_frame, (x,y), (x + w, y + h), (0, 255, 0), 2)\n",
    "        x_medium = int((x + x + w)/2)\n",
    "        y_medium = int((y + y + h)/2)\n",
    "        cv2.circle(color_frame, (x_medium,y_medium), 5, (0, 255, 0))\n",
    "        break\n",
    "    \n",
    "    #moving avg buffer for stable output distance\n",
    "    dist1 = depth_frame[y_medium, x_medium]\n",
    "    buffer[0] = dist1\n",
    "    for i in range(len(buffer)):\n",
    "        buffer[len(buffer)-1-i] = buffer[len(buffer)-2-i]\n",
    "    dist1 = round(np.mean(dist1)/100)*100\n",
    "    \n",
    "    if mX < x_medium:\n",
    "        cv2.circle(color_frame, (20 ,int(rows/2)), 20, (0, 255, 0), -1)\n",
    "    else:\n",
    "        cv2.circle(color_frame, (len(color_frame[1])-20,int(rows/2)), 20, (0, 255, 0), -1)\n",
    "    \n",
    "    clear_output(wait=True)\n",
    "    print(dist1)\n",
    "    \n",
    "    #shows frame\n",
    "    cv2.imshow('filt', distPass)\n",
    "    cv2.imshow('distMask', distMask)\n",
    "    cv2.imshow('color_frame', color_frame)\n",
    "    key = cv2.waitKey(1)\n",
    "    if key == 27:\n",
    "        break\n",
    "        \n",
    "cv2.destroyAllWindows"
   ]
  },
  {
   "cell_type": "code",
   "execution_count": null,
   "id": "c0e865eb",
   "metadata": {},
   "outputs": [],
   "source": []
  }
 ],
 "metadata": {
  "kernelspec": {
   "display_name": "Python 3 (ipykernel)",
   "language": "python",
   "name": "python3"
  },
  "language_info": {
   "codemirror_mode": {
    "name": "ipython",
    "version": 3
   },
   "file_extension": ".py",
   "mimetype": "text/x-python",
   "name": "python",
   "nbconvert_exporter": "python",
   "pygments_lexer": "ipython3",
   "version": "3.9.7"
  }
 },
 "nbformat": 4,
 "nbformat_minor": 5
}
