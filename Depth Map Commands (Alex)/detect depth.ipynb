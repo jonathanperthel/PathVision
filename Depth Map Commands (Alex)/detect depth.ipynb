{
 "cells": [
  {
   "cell_type": "code",
   "execution_count": null,
   "id": "7fb4c384",
   "metadata": {},
   "outputs": [],
   "source": [
    "import cv2\n",
    "import pyrealsense2\n",
    "from realsense_depth import *\n",
    "\n",
    "point = (200, 300)\n",
    "\n",
    "def show_distance(event, x, y, args, params):\n",
    "    global point\n",
    "    point = (x, y)\n",
    "\n",
    "# Initialize Camera Intel Realsense\n",
    "dc = DepthCamera()\n",
    "\n",
    "# Create mouse event\n",
    "cv2.namedWindow(\"Color frame\")\n",
    "cv2.setMouseCallback(\"Color frame\", show_distance)\n",
    "\n",
    "while True:\n",
    "    ret, depth_frame, color_frame, depth_frame2 = dc.get_frame()\n",
    "    kernel = np.ones((2,2), np.uint8)\n",
    "    depth_frame2 = cv2.dilate(depth_frame2, kernel, iterations=25)\n",
    "    depth_frame = cv2.dilate(depth_frame, kernel, iterations=20)\n",
    "    depth_frame = cv2.blur(depth_frame,(2,2)) \n",
    "    \n",
    "    depth_frameDISP = cv2.normalize(depth_frame, None, alpha=0, beta=1, norm_type=cv2.NORM_MINMAX, dtype=cv2.CV_32F)\n",
    "\n",
    "\n",
    "    # Show distance for a specific point\n",
    "    cv2.circle(color_frame, point, 4, (0, 0, 255))\n",
    "    distance = depth_frame[point[1], point[0]]\n",
    "\n",
    "    cv2.putText(color_frame, \"{}mm\".format(distance), (point[0], point[1] - 20), cv2.FONT_HERSHEY_PLAIN, 2, (0, 0, 0), 2)\n",
    "    \n",
    "    cv2.imshow(\"depth frame2\", depth_frame2)\n",
    "    cv2.imshow(\"depth frame\", depth_frameDISP)\n",
    "    cv2.imshow(\"Color frame\", color_frame)\n",
    "    key = cv2.waitKey(1)\n",
    "    if key == 27:\n",
    "        break"
   ]
  },
  {
   "cell_type": "code",
   "execution_count": null,
   "id": "35ea8ca3",
   "metadata": {},
   "outputs": [],
   "source": []
  }
 ],
 "metadata": {
  "kernelspec": {
   "display_name": "Python 3 (ipykernel)",
   "language": "python",
   "name": "python3"
  },
  "language_info": {
   "codemirror_mode": {
    "name": "ipython",
    "version": 3
   },
   "file_extension": ".py",
   "mimetype": "text/x-python",
   "name": "python",
   "nbconvert_exporter": "python",
   "pygments_lexer": "ipython3",
   "version": "3.9.7"
  }
 },
 "nbformat": 4,
 "nbformat_minor": 5
}
