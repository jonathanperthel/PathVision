{
 "cells": [
  {
   "cell_type": "code",
   "execution_count": 1,
   "id": "a83e8a7d",
   "metadata": {},
   "outputs": [],
   "source": [
    "import numpy as np\n",
    "\n",
    "class DepthCamera:\n",
    "    def __init__(self):\n",
    "        # Configure depth and color streams\n",
    "        self.pipeline = rs.pipeline()\n",
    "        config = rs.config()\n",
    "\n",
    "        # Get device product line for setting a supporting resolution\n",
    "        pipeline_wrapper = rs.pipeline_wrapper(self.pipeline)\n",
    "        pipeline_profile = config.resolve(pipeline_wrapper)\n",
    "        device = pipeline_profile.get_device()\n",
    "        device_product_line = str(device.get_info(rs.camera_info.product_line))\n",
    "\n",
    "        config.enable_stream(rs.stream.depth, 640, 480, rs.format.z16, 30)\n",
    "        config.enable_stream(rs.stream.color, 640, 480, rs.format.bgr8, 30)\n",
    "\n",
    "\n",
    "        # Start streaming\n",
    "        self.pipeline.start(config)\n",
    "\n",
    "    def get_frame(self):\n",
    "        frames = self.pipeline.wait_for_frames()\n",
    "        depth_frame = frames.get_depth_frame()\n",
    "        color_frame = frames.get_color_frame()\n",
    "        \n",
    "        #add filters:\n",
    "        #https://github.com/IntelRealSense/librealsense/blob/jupyter/notebooks/depth_filters.ipynb\n",
    "        \n",
    "        #decimation\n",
    "        decimation = rs.decimation_filter()\n",
    "        decimated_depth = decimation.process(depth_frame)\n",
    "        colorized_depth = np.asanyarray(colorizer.colorize(decimated_depth).get_data())\n",
    "\n",
    "        depth_image = np.asanyarray(depth_frame.get_data())\n",
    "        color_image = np.asanyarray(color_frame.get_data())\n",
    "        if not depth_frame or not color_frame:\n",
    "            return False, None, None\n",
    "        return True, decimated_depth, color_image\n",
    "        #return True, depth_image, color_image\n",
    "\n",
    "    def release(self):\n",
    "        self.pipeline.stop()"
   ]
  },
  {
   "cell_type": "code",
   "execution_count": null,
   "id": "d5fb7150",
   "metadata": {},
   "outputs": [],
   "source": []
  }
 ],
 "metadata": {
  "kernelspec": {
   "display_name": "Python 3 (ipykernel)",
   "language": "python",
   "name": "python3"
  },
  "language_info": {
   "codemirror_mode": {
    "name": "ipython",
    "version": 3
   },
   "file_extension": ".py",
   "mimetype": "text/x-python",
   "name": "python",
   "nbconvert_exporter": "python",
   "pygments_lexer": "ipython3",
   "version": "3.9.7"
  }
 },
 "nbformat": 4,
 "nbformat_minor": 5
}
