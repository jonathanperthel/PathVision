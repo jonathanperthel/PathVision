{
 "cells": [
  {
   "cell_type": "code",
   "execution_count": 5,
   "id": "3a41b4ea",
   "metadata": {},
   "outputs": [
    {
     "name": "stdout",
     "output_type": "stream",
     "text": [
      "470\n"
     ]
    },
    {
     "ename": "KeyboardInterrupt",
     "evalue": "",
     "output_type": "error",
     "traceback": [
      "\u001b[1;31m---------------------------------------------------------------------------\u001b[0m",
      "\u001b[1;31mKeyboardInterrupt\u001b[0m                         Traceback (most recent call last)",
      "\u001b[1;32m~\\AppData\\Local\\Temp/ipykernel_16464/3875087010.py\u001b[0m in \u001b[0;36m<module>\u001b[1;34m\u001b[0m\n\u001b[0;32m     60\u001b[0m     \u001b[1;31m#shows frame\u001b[0m\u001b[1;33m\u001b[0m\u001b[1;33m\u001b[0m\u001b[0m\n\u001b[0;32m     61\u001b[0m     \u001b[0mcv2\u001b[0m\u001b[1;33m.\u001b[0m\u001b[0mimshow\u001b[0m\u001b[1;33m(\u001b[0m\u001b[1;34m'depth_frame'\u001b[0m\u001b[1;33m,\u001b[0m \u001b[0mdepth_frame2\u001b[0m\u001b[1;33m)\u001b[0m\u001b[1;33m\u001b[0m\u001b[1;33m\u001b[0m\u001b[0m\n\u001b[1;32m---> 62\u001b[1;33m     \u001b[0mcv2\u001b[0m\u001b[1;33m.\u001b[0m\u001b[0mimshow\u001b[0m\u001b[1;33m(\u001b[0m\u001b[1;34m'color_frame'\u001b[0m\u001b[1;33m,\u001b[0m \u001b[0mcolor_frame\u001b[0m\u001b[1;33m)\u001b[0m\u001b[1;33m\u001b[0m\u001b[1;33m\u001b[0m\u001b[0m\n\u001b[0m\u001b[0;32m     63\u001b[0m     \u001b[0mkey\u001b[0m \u001b[1;33m=\u001b[0m \u001b[0mcv2\u001b[0m\u001b[1;33m.\u001b[0m\u001b[0mwaitKey\u001b[0m\u001b[1;33m(\u001b[0m\u001b[1;36m1\u001b[0m\u001b[1;33m)\u001b[0m\u001b[1;33m\u001b[0m\u001b[1;33m\u001b[0m\u001b[0m\n\u001b[0;32m     64\u001b[0m     \u001b[1;32mif\u001b[0m \u001b[0mkey\u001b[0m \u001b[1;33m==\u001b[0m \u001b[1;36m27\u001b[0m\u001b[1;33m:\u001b[0m\u001b[1;33m\u001b[0m\u001b[1;33m\u001b[0m\u001b[0m\n",
      "\u001b[1;31mKeyboardInterrupt\u001b[0m: "
     ]
    }
   ],
   "source": [
    "import time\n",
    "import socket\n",
    "import cv2\n",
    "import numpy as np\n",
    "from realsense_depth import *\n",
    "from IPython.display import clear_output\n",
    "\n",
    "#sockets\n",
    "host = \"192.168.123.12\"   #ip address of the robot's pi\n",
    "port = 61626        #this number does not matter just needs to be the same across server and client\n",
    "s = socket.socket(socket.AF_INET, socket.SOCK_STREAM)\n",
    "s.connect((host, port))\n",
    "\n",
    "#initialization\n",
    "buffer = [0] * 40  #buffer moving average filter\n",
    "dc = DepthCamera() #initialize intel realsense\n",
    "position = 99\n",
    "ret, depth_frame, color_frame, depth_frame2 = dc.get_frame()\n",
    "rows, cols, _ = color_frame.shape\n",
    "x_medium = int(cols/2)\n",
    "\n",
    "#mainloop\n",
    "while True:\n",
    "    \n",
    "    #stream from intel realsense\n",
    "    ret, depth_frame, color_frame, depth_frame2 = dc.get_frame()\n",
    "\n",
    "    #identifying red color\n",
    "    hsv_frame = cv2.cvtColor(color_frame, cv2.COLOR_BGR2HSV)\n",
    "    low_red = np.array([161, 155, 84])    #low end red color\n",
    "    high_red = np.array([179, 255, 255])  #high end red color\n",
    "    red_mask = cv2.inRange(hsv_frame, low_red, high_red)\n",
    "\n",
    "    #finding largest red object\n",
    "    contours, _ = cv2.findContours(red_mask, cv2.RETR_TREE, cv2.CHAIN_APPROX_SIMPLE)\n",
    "    contours = sorted(contours, key=lambda x:cv2.contourArea(x), reverse=True)\n",
    "    \n",
    "    #this follows the largest red object\n",
    "    for cnt in contours:\n",
    "        (x, y, w, h) = cv2.boundingRect(cnt)\n",
    "        cv2.rectangle(color_frame, (x,y), (x + w, y + h), (0, 255, 0), 2)\n",
    "        x_medium = int((x + x + w)/2)\n",
    "        break\n",
    "    cv2.line(color_frame, (x_medium, 0), (x_medium, 480), (255,0,255), 2)\n",
    "    \n",
    "    #use moving average buffer to stabilize output distance\n",
    "    dist1 = np.min(depth_frame[np.nonzero(depth_frame)])\n",
    "    buffer[0] = dist1\n",
    "    for i in range(len(buffer)):\n",
    "        buffer[len(buffer)-1-i] = buffer[len(buffer)-2-i]\n",
    "    dist1 = round(np.mean(dist1)/10)*10\n",
    "    print(dist1)\n",
    "    \n",
    "    #shows frame\n",
    "    cv2.imshow('depth_frame', depth_frame2)\n",
    "    cv2.imshow('color_frame', color_frame)\n",
    "    key = cv2.waitKey(1)\n",
    "    if key == 27:\n",
    "        break\n",
    "    \n",
    "    #movement commands\n",
    "    position = int(x_medium/8)\n",
    "    print(position)\n",
    "    \n",
    "    if position < 10:\n",
    "        position = 10\n",
    "    elif position > 84:\n",
    "        position = 84\n",
    "    if dist1 < 500:\n",
    "        position = 99\n",
    "        print('stop')\n",
    "    \n",
    "    #send commands\n",
    "    command = str(position)\n",
    "    s.sendall(command.encode())\n",
    "\n",
    "s.close\n",
    "cv2.destroyAllWindows"
   ]
  },
  {
   "cell_type": "code",
   "execution_count": null,
   "id": "5e3ae84f",
   "metadata": {},
   "outputs": [],
   "source": []
  }
 ],
 "metadata": {
  "kernelspec": {
   "display_name": "Python 3 (ipykernel)",
   "language": "python",
   "name": "python3"
  },
  "language_info": {
   "codemirror_mode": {
    "name": "ipython",
    "version": 3
   },
   "file_extension": ".py",
   "mimetype": "text/x-python",
   "name": "python",
   "nbconvert_exporter": "python",
   "pygments_lexer": "ipython3",
   "version": "3.9.7"
  }
 },
 "nbformat": 4,
 "nbformat_minor": 5
}
